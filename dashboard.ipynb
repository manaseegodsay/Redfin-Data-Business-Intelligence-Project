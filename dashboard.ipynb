{
  "cells": [
    {
      "cell_type": "code",
      "source": [
        "import queries as qr\n",
        "\n",
        "import plotly.dashboard_objs as dashboard\n",
        "import plotly.graph_objs as go\n",
        "import plotly.plotly as py\n",
        "import numpy as np\n",
        "import re"
      ],
      "outputs": [],
      "execution_count": 8,
      "metadata": {
        "collapsed": false,
        "outputHidden": false,
        "inputHidden": false
      }
    },
    {
      "cell_type": "code",
      "source": [
        "def fileId_from_url(url):\n",
        "    \"\"\"Return fileId from a url.\"\"\"\n",
        "    raw_fileId = re.findall(\"~[A-z]+/[0-9]+\", url)[0][1: ]\n",
        "    return raw_fileId.replace('/', ':')\n",
        "\n",
        "def sharekey_from_url(url):\n",
        "    \"\"\"Return the sharekey from a url.\"\"\"\n",
        "    if 'share_key=' not in url:\n",
        "        return \"This url is not 'sercret'. It does not have a secret key.\"\n",
        "    return url[url.find('share_key=') + len('share_key='):]\n"
      ],
      "outputs": [],
      "execution_count": 10,
      "metadata": {
        "collapsed": false,
        "outputHidden": false,
        "inputHidden": false
      }
    },
    {
      "cell_type": "code",
      "source": [
        "colorscale = [[0, '#FAEE1C'], [0.33, '#F3558E'], [0.66, '#9C1DE7'], [1, '#581B98']]\n",
        "trace1 = go.Scatter(\n",
        "    y = np.random.randn(500),\n",
        "    mode='markers',\n",
        "    marker=dict(\n",
        "        size='16',\n",
        "        color = np.random.randn(500),\n",
        "        colorscale=colorscale,\n",
        "        showscale=True\n",
        "    )\n",
        ")\n",
        "data = [trace1]\n",
        "url_1 = py.plot(data, filename='scatter-for-dashboard', auto_open=False)\n",
        "py.iplot(data, filename='scatter-for-dashboard')"
      ],
      "outputs": [
        {
          "output_type": "execute_result",
          "execution_count": 5,
          "data": {
            "text/plain": [
              "<plotly.tools.PlotlyDisplay object>"
            ],
            "text/html": [
              "<iframe id=\"igraph\" scrolling=\"no\" style=\"border:none;\" seamless=\"seamless\" src=\"https://plot.ly/~ruyyi0323/3.embed\" height=\"525px\" width=\"100%\"></iframe>"
            ]
          },
          "metadata": {}
        }
      ],
      "execution_count": 5,
      "metadata": {
        "collapsed": false,
        "outputHidden": false,
        "inputHidden": false
      }
    },
    {
      "cell_type": "code",
      "source": [
        "my_dboard = dashboard.Dashboard()\n",
        "my_dboard.get_preview()"
      ],
      "outputs": [
        {
          "output_type": "execute_result",
          "execution_count": 6,
          "data": {
            "text/plain": [
              "<IPython.core.display.HTML object>"
            ],
            "text/html": [
              "\n",
              "<!DOCTYPE HTML>\n",
              "<html>\n",
              "  <head>\n",
              "    <style>\n",
              "      body {\n",
              "        margin: 0px;\n",
              "        padding: 0px;\n",
              "      }\n",
              "    </style>\n",
              "  </head>\n",
              "  <body>\n",
              "    <canvas id=\"myCanvas\" width=\"500\" height=\"500\"></canvas>\n",
              "    <script>\n",
              "      var canvas = document.getElementById('myCanvas');\n",
              "      var context = canvas.getContext('2d');\n",
              "      <!-- Dashboard -->\n",
              "      context.beginPath();\n",
              "      context.rect(0, 0, 500, 500);\n",
              "      context.lineWidth = 2;\n",
              "      context.strokeStyle = 'black';\n",
              "      context.stroke();\n",
              "      </script>\n",
              "  </body>\n",
              "</html>\n"
            ]
          },
          "metadata": {}
        }
      ],
      "execution_count": 6,
      "metadata": {
        "collapsed": false,
        "outputHidden": false,
        "inputHidden": false
      }
    }
  ],
  "metadata": {
    "kernel_info": {
      "name": "python3"
    },
    "kernelspec": {
      "name": "python3",
      "language": "python",
      "display_name": "Python 3"
    },
    "language_info": {
      "name": "python",
      "version": "3.6.1",
      "mimetype": "text/x-python",
      "codemirror_mode": {
        "name": "ipython",
        "version": 3
      },
      "pygments_lexer": "ipython3",
      "nbconvert_exporter": "python",
      "file_extension": ".py"
    },
    "nteract": {
      "version": "0.8.4"
    }
  },
  "nbformat": 4,
  "nbformat_minor": 4
}